{
 "cells": [
  {
   "cell_type": "code",
   "execution_count": 1,
   "metadata": {
    "collapsed": false
   },
   "outputs": [
    {
     "name": "stdout",
     "output_type": "stream",
     "text": [
      "Populating the interactive namespace from numpy and matplotlib\n"
     ]
    },
    {
     "name": "stderr",
     "output_type": "stream",
     "text": [
      "/opt/anaconda3/lib/python3.5/site-packages/statsmodels/compat/pandas.py:56: FutureWarning: The pandas.core.datetools module is deprecated and will be removed in a future version. Please use the pandas.tseries module instead.\n",
      "  from pandas.core import datetools\n"
     ]
    }
   ],
   "source": [
    "%pylab inline\n",
    "\n",
    "import numpy as np\n",
    "import pandas as pd\n",
    "\n",
    "import random\n",
    "import time\n",
    "\n",
    "import scipy.stats as st\n",
    "import statsmodels.api as sm\n",
    "\n",
    "import os\n",
    "import itertools as it\n",
    "\n",
    "import pyflux as pf\n",
    "\n",
    "pd.set_option('display.max_columns', 500)"
   ]
  },
  {
   "cell_type": "code",
   "execution_count": 2,
   "metadata": {
    "collapsed": false
   },
   "outputs": [
    {
     "name": "stdout",
     "output_type": "stream",
     "text": [
      "(24612729, 9)\n"
     ]
    },
    {
     "data": {
      "text/html": [
       "<div>\n",
       "<style>\n",
       "    .dataframe thead tr:only-child th {\n",
       "        text-align: right;\n",
       "    }\n",
       "\n",
       "    .dataframe thead th {\n",
       "        text-align: left;\n",
       "    }\n",
       "\n",
       "    .dataframe tbody tr th {\n",
       "        vertical-align: top;\n",
       "    }\n",
       "</style>\n",
       "<table border=\"1\" class=\"dataframe\">\n",
       "  <thead>\n",
       "    <tr style=\"text-align: right;\">\n",
       "      <th></th>\n",
       "      <th>ЦФО</th>\n",
       "      <th>Идентификатор PLU</th>\n",
       "      <th>Календарный день</th>\n",
       "      <th>Филиал</th>\n",
       "      <th>Вид Промо</th>\n",
       "      <th>Дата начала Промо</th>\n",
       "      <th>Дата окончания Промо</th>\n",
       "      <th>Продажи, натур. ед. (SUM)</th>\n",
       "      <th>Цена товара (AVG)</th>\n",
       "    </tr>\n",
       "  </thead>\n",
       "  <tbody>\n",
       "    <tr>\n",
       "      <th>0</th>\n",
       "      <td>13SZ5636</td>\n",
       "      <td>3254155</td>\n",
       "      <td>2015-05-28</td>\n",
       "      <td>SZ</td>\n",
       "      <td>NaN</td>\n",
       "      <td>0</td>\n",
       "      <td>0</td>\n",
       "      <td>5.0</td>\n",
       "      <td>54.0</td>\n",
       "    </tr>\n",
       "  </tbody>\n",
       "</table>\n",
       "</div>"
      ],
      "text/plain": [
       "        ЦФО  Идентификатор PLU Календарный день Филиал Вид Промо  \\\n",
       "0  13SZ5636            3254155       2015-05-28     SZ       NaN   \n",
       "\n",
       "   Дата начала Промо  Дата окончания Промо  Продажи, натур. ед. (SUM)  \\\n",
       "0                  0                     0                        5.0   \n",
       "\n",
       "   Цена товара (AVG)  \n",
       "0               54.0  "
      ]
     },
     "execution_count": 2,
     "metadata": {},
     "output_type": "execute_result"
    }
   ],
   "source": [
    "dateparse = lambda x: pd.datetime.strptime(x, '%Y/%m/%d 00:00:00') \n",
    "\n",
    "history_raw = pd.read_csv('EGG by day.csv', header=0, sep=\";\", quoting=3, decimal='.', parse_dates=['Календарный день'],\n",
    "                          date_parser=dateparse, encoding = 'utf-8')\n",
    "\n",
    "print(history_raw.shape)\n",
    "history_raw.head(1)"
   ]
  },
  {
   "cell_type": "code",
   "execution_count": 3,
   "metadata": {
    "collapsed": true
   },
   "outputs": [],
   "source": [
    "history_raw.columns = ['CFO','PLU', 'Day','Cluster','Promo','Promo start','Promo end','Qty','Price']"
   ]
  },
  {
   "cell_type": "code",
   "execution_count": 4,
   "metadata": {
    "collapsed": true
   },
   "outputs": [],
   "source": [
    "history_data = history_raw.sort_values(['CFO', 'PLU', 'Day','Qty']).reset_index(drop=True)\n",
    "history_data = history_data.drop_duplicates(subset=['CFO', 'PLU', 'Day'], keep='last').reset_index(drop=True)"
   ]
  },
  {
   "cell_type": "code",
   "execution_count": 5,
   "metadata": {
    "collapsed": true
   },
   "outputs": [],
   "source": [
    "history_data['Promo start'] = pd.to_datetime(history_data['Promo start'], errors='coerce', format = '%Y%m%d')\n",
    "history_data['Promo end'] = pd.to_datetime(history_data['Promo end'], errors='coerce', format = '%Y%m%d')"
   ]
  },
  {
   "cell_type": "code",
   "execution_count": 6,
   "metadata": {
    "collapsed": true
   },
   "outputs": [],
   "source": [
    "history_data['week_start'] = history_data['Day'] - pd.to_timedelta((history_data['Day'].dt.dayofweek+6)%7, unit='d')\n",
    "history_data['promo_week'] = history_data['Promo start']-pd.to_timedelta(\n",
    "                                    (history_data['Promo start'].dt.dayofweek+6)%7, unit='d')\n",
    "history_data['Week'] = history_data['week_start'].dt.week\n",
    "\n",
    "history_data['promo_days'] = (history_data['Promo end']-history_data['Promo start']).dt.days"
   ]
  },
  {
   "cell_type": "code",
   "execution_count": null,
   "metadata": {
    "collapsed": true
   },
   "outputs": [],
   "source": [
    "# history_data['category'] = history_data['Desc'].replace({'(С2|2кат|2 кат).*':2, '(С1|1кат|1 кат).*':1, \n",
    "#                                                          '(С0|СО|тбор).*':0, '(С3).*':3}, regex=True)\n",
    "# history_data.loc[~history_data['category'].isin([0,1,2,3]), 'category'] = -1"
   ]
  },
  {
   "cell_type": "code",
   "execution_count": 7,
   "metadata": {
    "collapsed": false
   },
   "outputs": [],
   "source": [
    "history_data['promo_type'] = 0\n",
    "history_data.loc[(history_data['promo_week']==history_data['week_start'])&\n",
    "                 (history_data['promo_days'].isin([6,13]))&\n",
    "                 (history_data['Promo']=='Z001'), 'promo_type'] = 6\n",
    "history_data.loc[(history_data['promo_week']==history_data['week_start'])&\n",
    "                 (history_data['promo_days']==3)&\n",
    "                 (history_data['Promo']=='Z001'), 'promo_type'] = 3\n",
    "history_data.loc[(history_data['promo_week']+pd.to_timedelta(7, unit='d')==history_data['week_start'])&\n",
    "                 (history_data['promo_days']==13)&\n",
    "                 (history_data['Promo']=='Z001'), 'promo_type'] = 6"
   ]
  },
  {
   "cell_type": "markdown",
   "metadata": {},
   "source": [
    "---"
   ]
  },
  {
   "cell_type": "code",
   "execution_count": null,
   "metadata": {
    "collapsed": true
   },
   "outputs": [],
   "source": [
    "lambda x:x.value_counts().index[0]"
   ]
  },
  {
   "cell_type": "code",
   "execution_count": null,
   "metadata": {
    "collapsed": true
   },
   "outputs": [],
   "source": [
    "history_data.groupby(['Cluster', 'PLU', 'week_start', 'Week'], \n",
    "               as_index=False).agg({'Qty':np.sum, 'promo_type':lambda x:x.value_counts().index[0], 'CFO':'count'})"
   ]
  },
  {
   "cell_type": "markdown",
   "metadata": {},
   "source": [
    "---"
   ]
  },
  {
   "cell_type": "code",
   "execution_count": 8,
   "metadata": {
    "collapsed": false
   },
   "outputs": [],
   "source": [
    "history_week = history_data.groupby(['Cluster', 'PLU', 'week_start', 'Week'], \n",
    "               as_index=False).agg({'Qty':np.sum, 'promo_type':np.max, 'CFO':'count'})"
   ]
  },
  {
   "cell_type": "code",
   "execution_count": 9,
   "metadata": {
    "collapsed": true
   },
   "outputs": [],
   "source": [
    "base_plu = [3182856, 3182857, 3474420, 3182853, 3182864]\n",
    "history_week = history_week[history_week['PLU'].isin(base_plu)]\n",
    "\n",
    "history_week['Reg_promo'] = 1\n",
    "history_week.loc[history_week['promo_type']==0, 'Reg_promo'] = 0\n",
    "\n",
    "history_week = history_week[history_week['Qty'] > 1000]\n",
    "history_week = history_week[history_week['week_start']>pd.Timestamp('2015-02-01')]\n",
    "# history_week['Qty'] = history_week['Qty']/history_week['CFO']\n",
    "history_week = history_week[history_week['week_start']>pd.Timestamp('2015-02-01')]\n",
    "history_week = history_week[(history_week['Cluster']!='UR')|(history_week['week_start']>pd.Timestamp('2015-12-01'))]\n",
    "history_week = history_week[(history_week['Cluster']!='SB')|(history_week['week_start']>pd.Timestamp('2016-08-30'))]\n",
    "history_week = history_week[(history_week['Cluster']!='CT')|(history_week['PLU']!=3182864)]\n",
    "history_week = history_week[(history_week['Cluster']!='UR')|(history_week['PLU']!=3182864)|\n",
    "                            (history_week['week_start']>pd.Timestamp('2016-10-04'))]\n",
    "history_week = history_week[(history_week['Cluster']!='UR')|(history_week['PLU']!=3182864)|\n",
    "                            (history_week['week_start']>pd.Timestamp('2016-10-04'))]\n",
    "history_week = history_week[(history_week['Cluster']!='TA')|(history_week['PLU']!=3182853)|\n",
    "                            (history_week['week_start']>pd.Timestamp('2016-01-01'))]\n",
    "history_week = history_week[(history_week['Cluster']!='SB')|(history_week['PLU']!=3182857)|\n",
    "                            (history_week['week_start']>pd.Timestamp('2016-11-01'))]"
   ]
  },
  {
   "cell_type": "code",
   "execution_count": 10,
   "metadata": {
    "collapsed": true
   },
   "outputs": [],
   "source": [
    "test_weeks = [pd.Timestamp('2017-03-07'), pd.Timestamp('2017-03-14'), pd.Timestamp('2017-03-21'), \n",
    "              pd.Timestamp('2017-02-28')]\n",
    "# test_weeks = [pd.Timestamp('2017-04-25')]\n",
    "# test_weeks = [pd.Timestamp('2017-05-02')]\n",
    "\n",
    "# train = history_week[(history_week['week_start'] > history_week['week_start'].min()) & \n",
    "#                              (history_week['week_start'] < np.min(test_weeks))].copy()\n",
    "\n",
    "train = history_week[(history_week['week_start'] > history_week['week_start'].min()) & \n",
    "                             (history_week['week_start'] < history_week['week_start'].max())].copy()\n",
    "\n",
    "test = history_week[history_week['week_start'].isin(test_weeks)].copy()\n"
   ]
  },
  {
   "cell_type": "code",
   "execution_count": null,
   "metadata": {
    "collapsed": true
   },
   "outputs": [],
   "source": []
  },
  {
   "cell_type": "code",
   "execution_count": null,
   "metadata": {
    "collapsed": true
   },
   "outputs": [],
   "source": []
  },
  {
   "cell_type": "code",
   "execution_count": null,
   "metadata": {
    "collapsed": true
   },
   "outputs": [],
   "source": []
  },
  {
   "cell_type": "code",
   "execution_count": null,
   "metadata": {
    "collapsed": true
   },
   "outputs": [],
   "source": []
  },
  {
   "cell_type": "code",
   "execution_count": 11,
   "metadata": {
    "collapsed": true
   },
   "outputs": [],
   "source": [
    "plu_main = [3182856, 3182857, 3182853]\n",
    "train_pivot = train[train['PLU'].isin(plu_main)]\n",
    "train_pivot = train_pivot.pivot_table(\n",
    "    index=['Cluster', 'week_start'], columns=['PLU'], values=['Reg_promo']).reset_index()\n",
    "\n",
    "train_pivot.columns = [col[0]+str(col[1]) for col in train_pivot.columns.values]\n",
    "\n",
    "train = train.merge(train_pivot, on=['Cluster', 'week_start'], how='left')\n",
    "\n",
    "train['Can56'] = train.loc[(train['Reg_promo']==0)&(train['Reg_promo3182856']==1), 'Qty']\n",
    "train['Can57'] = train.loc[(train['Reg_promo']==0)&(train['Reg_promo3182857']==1), 'Qty']\n",
    "train['Can53'] = train.loc[(train['Reg_promo']==0)&(train['Reg_promo3182853']==1), 'Qty']"
   ]
  },
  {
   "cell_type": "code",
   "execution_count": 12,
   "metadata": {
    "collapsed": true
   },
   "outputs": [],
   "source": [
    "holidates = [pd.Timestamp('2015-04-07'), pd.Timestamp('2016-04-26'), pd.Timestamp('2015-12-29'), pd.Timestamp('2016-12-27'),\n",
    "             pd.Timestamp('2017-04-11')]\n",
    "nyholy = [pd.Timestamp('2015-12-29'), pd.Timestamp('2016-12-27')]\n",
    "eaholy = [pd.Timestamp('2015-04-07'), pd.Timestamp('2016-04-26'), pd.Timestamp('2017-04-11')]\n",
    "\n",
    "train['Holy'] = train.loc[train['week_start'].isin(holidates), 'Qty']\n",
    "train['NYHoly'] = train.loc[train['week_start'].isin(nyholy), 'Qty']\n",
    "train['EAHoly'] = train.loc[train['week_start'].isin(eaholy), 'Qty']\n",
    "\n",
    "hs_sum_train = train.groupby(['Cluster', 'week_start'], as_index=False)['Reg_promo'].agg({'Reg_promo_sum':np.sum})\n",
    "train = train.merge(hs_sum_train, on=['Cluster', 'week_start'], how='left')\n",
    "train['Reg_promo_sum'] = train['Reg_promo_sum'] - train['Reg_promo']\n",
    "\n",
    "train['Promo'] = train.loc[train['Reg_promo']==1, 'Qty']\n",
    "train['Promo6'] = train.loc[train['promo_type']==3, 'Qty']\n",
    "train['Promo3'] = train.loc[train['promo_type']==6, 'Qty']\n",
    "\n",
    "train['Can1'] = train.loc[(train['Reg_promo']==0)&(train['Reg_promo_sum']==1), 'Qty']\n",
    "train['Can2'] = train.loc[(train['Reg_promo']==0)&(train['Reg_promo_sum']==2), 'Qty']\n",
    "\n",
    "prev_train = train[['Cluster', 'PLU', 'week_start', 'Reg_promo']].rename(columns={'Reg_promo':'prev_promo'})\n",
    "prev_train['week_start'] = prev_train['week_start'] + pd.Timedelta('7 days')\n",
    "train = train.merge(prev_train, on=['Cluster', 'PLU', 'week_start'], how='left')\n",
    "\n",
    "train['AfterPromo'] = train.loc[(train['prev_promo']==1)&(train['Reg_promo_sum']==0)&\n",
    "                                (train['Reg_promo']==0)&(~train['week_start'].isin(holidates)), 'Qty']\n",
    "\n",
    "train.loc[(train['week_start'].isin(holidates))|(train['Reg_promo']==1)|(train['Reg_promo_sum']!=0)|\n",
    "          (train['prev_promo']==1), 'Qty'] = np.NaN\n",
    "\n",
    "train['Qty med'] = train[['Cluster', 'PLU', 'week_start', 'Qty']].groupby(['Cluster', 'PLU']).apply(lambda group: \n",
    "                                group.rolling(9, min_periods=1, center=True, on='week_start').median())['Qty']\n",
    "\n"
   ]
  },
  {
   "cell_type": "code",
   "execution_count": 13,
   "metadata": {
    "collapsed": false
   },
   "outputs": [
    {
     "data": {
      "image/png": "[encoded data removed]",
      "text/plain": [
       "<matplotlib.figure.Figure at 0x7fb8fd3b9668>"
      ]
     },
     "metadata": {},
     "output_type": "display_data"
    }
   ],
   "source": [
    "# ['CH', 'CT', 'NG', 'SA', 'SB', 'SZ', 'TA', 'UG', 'UR']\n",
    "\n",
    "plu = 3474420 \n",
    "cl = 'TA'\n",
    "p = 10\n",
    "\n",
    "hsx = train[(train['PLU']==plu) & (train['Cluster']==cl)]\n",
    "# hsx = hsx[-p:]\n",
    "\n",
    "plt.plot_date(hsx['week_start'], hsx['Qty'], c='b')\n",
    "plt.plot_date(hsx['week_start'], hsx['Holy'], c='orange')\n",
    "plt.plot_date(hsx['week_start'], hsx['Promo'], c='r')\n",
    "plt.plot_date(hsx['week_start'], hsx['Can1'], c='g')\n",
    "plt.plot_date(hsx['week_start'], hsx['Qty med'], c='black', ls='-', marker=None)\n",
    "\n",
    "\n",
    "\n",
    "for val in holidates:\n",
    "    if val>hsx['week_start'][-p:].min():\n",
    "        plt.axvline(val, color='r', alpha=0.2, ls='-')\n",
    "\n",
    "hsx = hsx.set_index('week_start')\n",
    "\n",
    "plt.xticks(rotation='vertical')\n",
    "_ = 0"
   ]
  },
  {
   "cell_type": "code",
   "execution_count": null,
   "metadata": {
    "collapsed": true
   },
   "outputs": [],
   "source": []
  },
  {
   "cell_type": "code",
   "execution_count": null,
   "metadata": {
    "collapsed": true
   },
   "outputs": [],
   "source": []
  },
  {
   "cell_type": "code",
   "execution_count": null,
   "metadata": {
    "collapsed": true
   },
   "outputs": [],
   "source": []
  },
  {
   "cell_type": "code",
   "execution_count": null,
   "metadata": {
    "collapsed": true
   },
   "outputs": [],
   "source": []
  },
  {
   "cell_type": "code",
   "execution_count": 14,
   "metadata": {
    "collapsed": false
   },
   "outputs": [],
   "source": [
    "cor_columns = ['Holy', 'NYHoly', 'EAHoly', 'Promo', 'Promo6', 'Promo3', 'Can1', 'Can2', 'Can56', \n",
    "               'Can57', 'Can53', 'AfterPromo']\n",
    "cor_per_columns = [s+',%' for s in cor_columns]\n",
    "\n",
    "for col in cor_columns:\n",
    "    train[col+',%'] = train[col]/train['Qty med']\n",
    "train_cor = train.groupby(['PLU', 'Cluster'])[cor_per_columns].agg([np.mean,np.std])\n",
    "train['Qty,%'] = train['Qty']/train['Qty med']\n",
    "\n",
    "for col in cor_per_columns:\n",
    "    train_cor[col, 't_imp'] = train.groupby(['PLU', 'Cluster']).apply(lambda gr : \n",
    "                    st.ttest_1samp(gr['Qty,%'], gr[col].mean(), nan_policy='omit')[1] < 0.05 if \n",
    "                        np.ma.is_masked(st.ttest_ind(gr['Qty,%'], gr[col], nan_policy='omit')[1]) else\n",
    "                        st.ttest_ind(gr['Qty,%'], gr[col], nan_policy='omit')[1] < 0.05)    \n",
    "    \n"
   ]
  },
  {
   "cell_type": "code",
   "execution_count": null,
   "metadata": {
    "collapsed": false,
    "scrolled": true
   },
   "outputs": [],
   "source": [
    "train_cor.sort_index(axis=1)"
   ]
  },
  {
   "cell_type": "code",
   "execution_count": null,
   "metadata": {
    "collapsed": true
   },
   "outputs": [],
   "source": []
  },
  {
   "cell_type": "code",
   "execution_count": null,
   "metadata": {
    "collapsed": true
   },
   "outputs": [],
   "source": []
  },
  {
   "cell_type": "code",
   "execution_count": null,
   "metadata": {
    "collapsed": true
   },
   "outputs": [],
   "source": []
  },
  {
   "cell_type": "markdown",
   "metadata": {},
   "source": [
    "---"
   ]
  },
  {
   "cell_type": "code",
   "execution_count": 15,
   "metadata": {
    "collapsed": true
   },
   "outputs": [],
   "source": [
    "def model_params(datas, seasonal=True):\n",
    "    results = []\n",
    "    warnings.filterwarnings(\"ignore\")\n",
    "\n",
    "    if seasonal:\n",
    "        for param in it.product([0,1], [0,1], [0,1,2,3], [0,1], [0], [0]):\n",
    "            try:\n",
    "\n",
    "                model = sm.tsa.statespace.SARIMAX(datas, order=(param[0], param[1], param[2]), \n",
    "                                              seasonal_order=(param[3], param[4], param[5], 52), trend='ct'\n",
    "                                     ).fit(disp=-1)\n",
    "            except:\n",
    "                continue\n",
    "            results.append([param, model.aic])\n",
    "    else:\n",
    "        for param in it.product([0,1], [0,1], [0,1,2], [0], [0], [0]):\n",
    "            try:\n",
    "                model = sm.tsa.statespace.SARIMAX(datas, order=(param[0], param[1], param[2]), \n",
    "                                              seasonal_order=(param[3], param[4], param[5], 0), trend='ct'\n",
    "                                     ).fit(disp=-1)\n",
    "            except:\n",
    "                continue\n",
    "            results.append([param, model.aic])\n",
    "\n",
    "    warnings.filterwarnings(\"default\")\n",
    "    frame = pd.DataFrame(results, columns=['param', 'aic'])\n",
    "    return frame.loc[frame['aic'].argmin(), 'param']\n"
   ]
  },
  {
   "cell_type": "code",
   "execution_count": null,
   "metadata": {
    "collapsed": true
   },
   "outputs": [],
   "source": []
  },
  {
   "cell_type": "code",
   "execution_count": null,
   "metadata": {
    "collapsed": true
   },
   "outputs": [],
   "source": []
  },
  {
   "cell_type": "code",
   "execution_count": null,
   "metadata": {
    "collapsed": true
   },
   "outputs": [],
   "source": []
  },
  {
   "cell_type": "markdown",
   "metadata": {},
   "source": [
    "---"
   ]
  },
  {
   "cell_type": "code",
   "execution_count": 16,
   "metadata": {
    "collapsed": true
   },
   "outputs": [],
   "source": [
    "def invboxcox(y,lmbda):\n",
    "    if lmbda == 0:\n",
    "        return(np.exp(y))\n",
    "    else:\n",
    "        return(np.exp(np.log(lmbda*y+1)/lmbda) * 10000)"
   ]
  },
  {
   "cell_type": "raw",
   "metadata": {
    "collapsed": false,
    "scrolled": false
   },
   "source": [
    "predictions = pd.DataFrame()\n",
    "for (plu,cl), group in train.groupby(['PLU', 'Cluster']):\n",
    "    \n",
    "    if (plu,cl) == (3474420, 'TA'):\n",
    "        continue\n",
    "    data = group.set_index('week_start')\n",
    "    data = data.dropna(subset=['Qty med'])\n",
    "    data = data.asfreq('W-TUE', 'pad')\n",
    "    data['Qty box'], lmbda = st.boxcox(data['Qty med']/10000)\n",
    "\n",
    "    \n",
    "    if (plu==3474420)|(cl in ('SB','UR')):\n",
    "        params = model_params(data['Qty box'], seasonal=False)\n",
    "        model = sm.tsa.statespace.SARIMAX(data['Qty box'],order=params[:3], seasonal_order=(0, 0, 0, 0), \n",
    "                                          trend='ct').fit(disp=-1)\n",
    "        print(plu, cl, params+(0,))\n",
    "    else:\n",
    "\n",
    "        params = model_params(data['Qty box'], seasonal=True)\n",
    "        model = sm.tsa.statespace.SARIMAX(data['Qty box'], order=params[:3], seasonal_order=params[3:] + (52,), \n",
    "                                          trend='ct').fit(disp=-1)\n",
    "        print(plu, cl, params+(52,))\n",
    "\n",
    "    group_pred = invboxcox(model.predict(start=data.index.max(), \n",
    "                                         end=pd.Timestamp('2017-06-06'), freq='W-TUE'), lmbda)\n",
    "    group_pred = pd.DataFrame(group_pred).reset_index()\n",
    "    group_pred.columns=['week_start', 'Qty sarima']\n",
    "    group_pred['PLU'] = plu\n",
    "    group_pred['Cluster'] = cl\n",
    "\n",
    "    predictions = predictions.append(group_pred)"
   ]
  },
  {
   "cell_type": "code",
   "execution_count": null,
   "metadata": {
    "collapsed": true
   },
   "outputs": [],
   "source": []
  },
  {
   "cell_type": "markdown",
   "metadata": {},
   "source": [
    "---"
   ]
  },
  {
   "cell_type": "code",
   "execution_count": 17,
   "metadata": {
    "collapsed": false
   },
   "outputs": [
    {
     "data": {
      "text/plain": [
       "-237.68126392550349"
      ]
     },
     "execution_count": 17,
     "metadata": {},
     "output_type": "execute_result"
    }
   ],
   "source": [
    "# ['CH', 'CT', 'NG', 'SA', 'SB', 'SZ', 'TA', 'UG', 'UR']\n",
    "(plu,cl) = (3474420, 'TA')\n",
    "data = train[(train['PLU']==plu)&(train['Cluster']==cl)].copy()\n",
    "data = data.dropna(subset=['Qty med'])\n",
    "\n",
    "data['Qty box'], lmbda = st.boxcox(data['Qty med']/10000)\n",
    "lmbda"
   ]
  },
  {
   "cell_type": "code",
   "execution_count": null,
   "metadata": {
    "collapsed": false,
    "scrolled": true
   },
   "outputs": [],
   "source": [
    "print(sm.tsa.stattools.adfuller(data['Qty med'], regression='ct')[1])\n",
    "print(sm.tsa.stattools.adfuller(data['Qty box'], regression='ct')[1])\n",
    "\n",
    "# print(st.shapiro(data['Qty int']))\n",
    "# print(st.shapiro(np.log(data['Qty int'])))\n",
    "# print(st.shapiro(data['Qty box']))"
   ]
  },
  {
   "cell_type": "code",
   "execution_count": null,
   "metadata": {
    "collapsed": false
   },
   "outputs": [],
   "source": [
    "wtf = data['Qty box'] - data['Qty box'].shift(52)\n",
    "sm.tsa.stattools.adfuller(wtf[53:])[1]"
   ]
  },
  {
   "cell_type": "code",
   "execution_count": null,
   "metadata": {
    "collapsed": false
   },
   "outputs": [],
   "source": [
    "plt.figure(figsize(15,8))\n",
    "ax = plt.subplot(211)\n",
    "sm.graphics.tsa.plot_acf(data['Qty box'], lags=data.shape[0]-10, ax=ax)\n",
    "pylab.show()\n",
    "ax=plt.subplot(212)\n",
    "sm.graphics.tsa.plot_pacf(data['Qty box'], lags=data.shape[0]-10, ax=ax)\n",
    "pylab.show()\n",
    "\n",
    "\n",
    "# plt.figure(figsize(15,8))\n",
    "# ax = plt.subplot(211)\n",
    "# sm.graphics.tsa.plot_acf(wtf[52:], lags=wtf.shape[0]-53, ax=ax)\n",
    "# pylab.show()\n",
    "# ax=plt.subplot(212)\n",
    "# sm.graphics.tsa.plot_pacf(wtf[52:], lags=wtf.shape[0]-53, ax=ax)\n",
    "# pylab.show()\n",
    "\n",
    "# data.shape[0]"
   ]
  },
  {
   "cell_type": "code",
   "execution_count": null,
   "metadata": {
    "collapsed": false,
    "scrolled": true
   },
   "outputs": [],
   "source": [
    "results = []\n",
    "warnings.filterwarnings(\"ignore\")\n",
    "\n",
    "datas = data.set_index('week_start')\n",
    "\n",
    "for param in it.product([0,1], [0,1], [0,1,2], [0], [0], [0]):\n",
    "    try:\n",
    "        model = sm.tsa.statespace.SARIMAX(datas.ix[1:,'Qty box'], order=(param[0], param[1], param[2]), \n",
    "                                          seasonal_order=(param[3], param[4], param[5], 52), trend='ct'\n",
    "                                 ).fit(disp=-1)\n",
    "    except:\n",
    "        print(param)\n",
    "        continue\n",
    "    results.append([param, model.aic])\n",
    "\n",
    "warnings.filterwarnings(\"default\")"
   ]
  },
  {
   "cell_type": "code",
   "execution_count": null,
   "metadata": {
    "collapsed": false,
    "scrolled": true
   },
   "outputs": [],
   "source": [
    "pd.DataFrame(results, columns=['param', 'aic']).sort_values(['aic'])\n",
    "\n"
   ]
  },
  {
   "cell_type": "code",
   "execution_count": null,
   "metadata": {
    "collapsed": false
   },
   "outputs": [],
   "source": [
    "model = sm.tsa.statespace.SARIMAX(datas['Qty box'], order=(1, 0, 0), seasonal_order=(0, 0, 0, 52), trend='ct').fit(disp=-1)\n"
   ]
  },
  {
   "cell_type": "code",
   "execution_count": null,
   "metadata": {
    "collapsed": true
   },
   "outputs": [],
   "source": [
    "datas['Qty'].plot(c='b', marker='.', ls='')\n",
    "datas['Qty med'].plot(c='black', marker=None, ls='-')\n",
    "pred[1:].plot(c='r')\n",
    "\n",
    "invboxcox(model.predict(start=pd.Timestamp('2017-03-14'), end=pd.Timestamp('2017-06-06'), freq='W-TUE'), \n",
    "          lmbda).plot(marker='.', ls='-',c='r')\n",
    "\n",
    "\n",
    "_ = 0"
   ]
  },
  {
   "cell_type": "markdown",
   "metadata": {},
   "source": [
    "---"
   ]
  },
  {
   "cell_type": "code",
   "execution_count": null,
   "metadata": {
    "collapsed": true
   },
   "outputs": [],
   "source": []
  },
  {
   "cell_type": "code",
   "execution_count": null,
   "metadata": {
    "collapsed": true
   },
   "outputs": [],
   "source": []
  },
  {
   "cell_type": "code",
   "execution_count": null,
   "metadata": {
    "collapsed": true
   },
   "outputs": [],
   "source": []
  },
  {
   "cell_type": "code",
   "execution_count": null,
   "metadata": {
    "collapsed": true
   },
   "outputs": [],
   "source": []
  },
  {
   "cell_type": "code",
   "execution_count": null,
   "metadata": {
    "collapsed": true
   },
   "outputs": [],
   "source": []
  },
  {
   "cell_type": "code",
   "execution_count": null,
   "metadata": {
    "collapsed": false
   },
   "outputs": [],
   "source": [
    "result=predictions.copy()\n",
    "result.shape"
   ]
  },
  {
   "cell_type": "code",
   "execution_count": null,
   "metadata": {
    "collapsed": true
   },
   "outputs": [],
   "source": [
    "test_result = result.loc[result['week_start'].isin(test_weeks), ['week_start', 'Cluster', 'PLU','plf', 'Qty sarima']].copy()\n",
    "test_result = test_result.merge(test[['Cluster', 'PLU', 'week_start', 'Qty', 'CFO', 'Reg_promo']], \n",
    "                                on=['Cluster', 'PLU', 'week_start'], how='left')"
   ]
  },
  {
   "cell_type": "code",
   "execution_count": null,
   "metadata": {
    "collapsed": true
   },
   "outputs": [],
   "source": [
    "test_result['PLU'] = test_result['PLU'].astype(int)\n",
    "test_pivot = test_result[test_result['PLU'].isin(plu_main)]\n",
    "test_pivot = test_pivot.pivot_table(\n",
    "    index=['Cluster', 'week_start'], columns=['PLU'], values=['Reg_promo']).reset_index()\n",
    "\n",
    "test_pivot.columns = [col[0]+str(col[1]) for col in test_pivot.columns.values]\n",
    "\n",
    "test_result = test_result.merge(test_pivot, on=['Cluster', 'week_start'], how='left')\n",
    "\n",
    "test_result.loc[(test_result['PLU']==3182856)&(test_result['Reg_promo']==1), 'Reg_promo3182856'] = 0\n",
    "test_result.loc[(test_result['PLU']==3182853)&(test_result['Reg_promo']==1), 'Reg_promo3182853'] = 0\n",
    "test_result.loc[(test_result['PLU']==3182857)&(test_result['Reg_promo']==1), 'Reg_promo3182857'] = 0"
   ]
  },
  {
   "cell_type": "code",
   "execution_count": null,
   "metadata": {
    "collapsed": true
   },
   "outputs": [],
   "source": [
    "train_min = train_cor[[('Promo,%','mean'), ('Can56,%','mean'), ('Can57,%','mean'), \n",
    "                       ('Can53,%','mean'), ('EAHoly,%','mean'), ('Holy,%','mean')]].reset_index()\n",
    "train_min.columns = train_min.columns.droplevel(1)\n",
    "\n",
    "train_min['coe'] = train_min['EAHoly,%']/train_min['Holy,%']\n",
    "train_min['coe'] = train_min.groupby(['PLU'])['coe'].transform(lambda x: x.fillna(x.mean()))\n",
    "train_min['EAHoly,%'] = train_min['EAHoly,%'].fillna(train_min['Holy,%']*train_min['coe'])\n",
    "train_min['EAHoly,%'] = train_min['EAHoly,%'].fillna(train_min['Holy,%'])\n",
    "train_min = train_min.drop(['Holy,%','coe'], axis=1)"
   ]
  },
  {
   "cell_type": "code",
   "execution_count": null,
   "metadata": {
    "collapsed": true
   },
   "outputs": [],
   "source": [
    "test_result = test_result.merge(train_min, on=['PLU', 'Cluster'],how='left')\n",
    "test_result[['Can56,%', 'Can57,%', 'Can53,%']] = test_result[['Can56,%', 'Can57,%', \n",
    "                                                              'Can53,%']].clip_upper(1).fillna(1)"
   ]
  },
  {
   "cell_type": "code",
   "execution_count": null,
   "metadata": {
    "collapsed": true
   },
   "outputs": [],
   "source": [
    "test_result['Qty pred'] = test_result['Qty sarima']\n",
    "test_result.loc[test_result['Reg_promo']==1,['Qty pred']] = test_result.loc[test_result['Reg_promo']==1,\n",
    "                            ['Qty pred', 'Promo,%']].product(axis=1)\n",
    "test_result.loc[test_result['Reg_promo3182853']==1,['Qty pred']] = test_result.loc[test_result['Reg_promo3182853']==1,\n",
    "                            ['Qty pred', 'Can53,%']].product(axis=1)\n",
    "test_result.loc[test_result['Reg_promo3182856']==1,['Qty pred']] = test_result.loc[test_result['Reg_promo3182856']==1,\n",
    "                            ['Qty pred', 'Can56,%']].product(axis=1)\n",
    "test_result.loc[test_result['Reg_promo3182857']==1,['Qty pred']] = test_result.loc[test_result['Reg_promo3182857']==1,\n",
    "                            ['Qty pred', 'Can57,%']].product(axis=1)\n",
    "test_result.loc[test_result['week_start'].isin(eaholy),['Qty pred']] = test_result.loc[test_result['week_start'].isin(eaholy),\n",
    "                            ['Qty pred', 'EAHoly,%']].product(axis=1)\n",
    "\n",
    "test_result['Result'] = test_result['Qty pred']\n",
    "test_result['Result r'] = test_result['Qty']"
   ]
  },
  {
   "cell_type": "code",
   "execution_count": null,
   "metadata": {
    "collapsed": true
   },
   "outputs": [],
   "source": [
    "def wape_base(preds, y_true):\n",
    "    return np.sum(np.abs(y_true-preds))/np.sum(y_true)"
   ]
  },
  {
   "cell_type": "code",
   "execution_count": null,
   "metadata": {
    "collapsed": true
   },
   "outputs": [],
   "source": [
    "test_result['Week']"
   ]
  },
  {
   "cell_type": "code",
   "execution_count": null,
   "metadata": {
    "collapsed": false
   },
   "outputs": [],
   "source": [
    "for week in test_weeks:\n",
    "    test_t = test_result[test_result['week_start']==week]\n",
    "    print(week, wape_base(test_t['Result'],test_t['Result r']))"
   ]
  },
  {
   "cell_type": "code",
   "execution_count": null,
   "metadata": {
    "collapsed": false,
    "scrolled": true
   },
   "outputs": [],
   "source": [
    "test_result.groupby(['week_start', 'PLU']).apply(lambda gr: \n",
    "                                                        wape_base(gr['Result'],gr['Result r'])\n",
    "        ).to_frame(name='wape').pivot_table(index=['PLU'], columns=['week_start'], values='wape')\n"
   ]
  },
  {
   "cell_type": "code",
   "execution_count": null,
   "metadata": {
    "collapsed": true
   },
   "outputs": [],
   "source": []
  },
  {
   "cell_type": "code",
   "execution_count": null,
   "metadata": {
    "collapsed": true
   },
   "outputs": [],
   "source": []
  },
  {
   "cell_type": "code",
   "execution_count": null,
   "metadata": {
    "collapsed": false,
    "scrolled": true
   },
   "outputs": [],
   "source": [
    "test_result['Quality'] = test_result['Result']/test_result['Result r']\n",
    "test_result.pivot_table(index=['Cluster', 'PLU'], columns=['week_start'], values=['Quality'])"
   ]
  },
  {
   "cell_type": "code",
   "execution_count": null,
   "metadata": {
    "collapsed": true
   },
   "outputs": [],
   "source": []
  },
  {
   "cell_type": "code",
   "execution_count": null,
   "metadata": {
    "collapsed": false,
    "scrolled": false
   },
   "outputs": [],
   "source": [
    "# ['CH', 'CT', 'NG', 'SA', 'SB', 'SZ', 'TA', 'UG', 'UR']\n",
    "# [3182856, 3182857, 3474420, 3182853, 3182864]\n",
    "\n",
    "plt.figure(figsize(15,8))\n",
    "\n",
    "plu = 3182856 \n",
    "cl = 'CH'\n",
    "p = 200\n",
    "\n",
    "print('plu: ', plu)\n",
    "print('cl: ', cl)\n",
    "\n",
    "hsx = train[(train['PLU']==plu) & (train['Cluster']==cl)]\n",
    "hsx = hsx[-p:]\n",
    "hsx_test = test_result[(test_result['PLU']==plu) & (test_result['Cluster']==cl)]\n",
    "\n",
    "plt.plot_date(hsx['week_start'], hsx['Qty'], c='c', label='кол-во')\n",
    "plt.plot_date(hsx['week_start'], hsx['Qty med'], c='g', ls='-', marker='', label='кол-во медиана')\n",
    "plt.plot_date(hsx['week_start'], hsx['Promo'], c='r', label='промо')\n",
    "plt.plot_date(hsx['week_start'], hsx['Holy'], c='darkmagenta', label='праздники')\n",
    "plt.plot_date(hsx['week_start'], hsx['Can1'], c='violet', label='каннибализация')\n",
    "\n",
    "\n",
    "plt.plot_date(hsx_test['week_start'], hsx_test['Qty pred'], c='magenta', ls='-', marker='', label='предсказание')\n",
    "plt.plot_date(hsx_test.loc[(hsx_test['Reg_promo']==0)&(hsx_test['Reg_promo3182856']==0),'week_start'], \n",
    "    hsx_test.loc[(hsx_test['Reg_promo']==0)&(hsx_test['Reg_promo3182856']==0),'Qty'], c='b', label='кол-во')\n",
    "# plt.plot_date(hsx_test.loc[hsx_test['Reg_promo']==1,'week_start'], \n",
    "#               hsx_test.loc[hsx_test['Reg_promo']==1,'Qty'], c='r')\n",
    "# plt.plot_date(hsx_test.loc[hsx_test['Reg_promo3182856']==1,'week_start'], \n",
    "#               hsx_test.loc[hsx_test['Reg_promo3182856']==1,'Qty'], c='lime')\n",
    "\n",
    "for val in holidates:\n",
    "    if val>hsx['week_start'][-p:].min():\n",
    "        plt.axvline(val, color='r', alpha=0.2, ls='-')\n",
    "\n",
    "\n",
    "plt.xticks(rotation='vertical')\n",
    "plt.legend()\n",
    "_ = 0"
   ]
  },
  {
   "cell_type": "code",
   "execution_count": null,
   "metadata": {
    "collapsed": true
   },
   "outputs": [],
   "source": []
  },
  {
   "cell_type": "code",
   "execution_count": null,
   "metadata": {
    "collapsed": true
   },
   "outputs": [],
   "source": [
    "cfo_st = test_result.groupby(['Cluster','PLU','week_start'])[['Qty pred', 'Qty']].mean()\n",
    "cfo_st['coe'] = cfo_st['Qty pred']/cfo_st['Qty']\n",
    "cfo_st"
   ]
  },
  {
   "cell_type": "code",
   "execution_count": null,
   "metadata": {
    "collapsed": true
   },
   "outputs": [],
   "source": []
  },
  {
   "cell_type": "code",
   "execution_count": null,
   "metadata": {
    "collapsed": true
   },
   "outputs": [],
   "source": []
  },
  {
   "cell_type": "code",
   "execution_count": null,
   "metadata": {
    "collapsed": true
   },
   "outputs": [],
   "source": [
    "writer = pd.ExcelWriter('EWF_14-17.xlsx')\n",
    "test_result[['Cluster', 'PLU', 'week_start', 'Reg_promo', 'Qty', 'Qty pred']].to_excel(writer, 'Main', index=True)\n",
    "writer.save()"
   ]
  },
  {
   "cell_type": "code",
   "execution_count": null,
   "metadata": {
    "collapsed": true
   },
   "outputs": [],
   "source": [
    "writer = pd.ExcelWriter('EggPromoCorr.xlsx')\n",
    "train_cor.sort_index(axis=1).to_excel(writer, 'Main', index=True)\n",
    "writer.save()"
   ]
  },
  {
   "cell_type": "code",
   "execution_count": null,
   "metadata": {
    "collapsed": true
   },
   "outputs": [],
   "source": []
  },
  {
   "cell_type": "code",
   "execution_count": null,
   "metadata": {
    "collapsed": true
   },
   "outputs": [],
   "source": []
  },
  {
   "cell_type": "code",
   "execution_count": null,
   "metadata": {
    "collapsed": true
   },
   "outputs": [],
   "source": []
  },
  {
   "cell_type": "code",
   "execution_count": null,
   "metadata": {
    "collapsed": true
   },
   "outputs": [],
   "source": []
  },
  {
   "cell_type": "code",
   "execution_count": null,
   "metadata": {
    "collapsed": true
   },
   "outputs": [],
   "source": []
  },
  {
   "cell_type": "code",
   "execution_count": null,
   "metadata": {
    "collapsed": true
   },
   "outputs": [],
   "source": []
  },
  {
   "cell_type": "code",
   "execution_count": null,
   "metadata": {
    "collapsed": true
   },
   "outputs": [],
   "source": []
  },
  {
   "cell_type": "code",
   "execution_count": null,
   "metadata": {
    "collapsed": true
   },
   "outputs": [],
   "source": []
  },
  {
   "cell_type": "code",
   "execution_count": null,
   "metadata": {
    "collapsed": true
   },
   "outputs": [],
   "source": []
  },
  {
   "cell_type": "code",
   "execution_count": null,
   "metadata": {
    "collapsed": true
   },
   "outputs": [],
   "source": []
  },
  {
   "cell_type": "code",
   "execution_count": null,
   "metadata": {
    "collapsed": true
   },
   "outputs": [],
   "source": []
  },
  {
   "cell_type": "code",
   "execution_count": null,
   "metadata": {
    "collapsed": true
   },
   "outputs": [],
   "source": []
  },
  {
   "cell_type": "code",
   "execution_count": null,
   "metadata": {
    "collapsed": true
   },
   "outputs": [],
   "source": []
  },
  {
   "cell_type": "code",
   "execution_count": null,
   "metadata": {
    "collapsed": true
   },
   "outputs": [],
   "source": []
  },
  {
   "cell_type": "code",
   "execution_count": null,
   "metadata": {
    "collapsed": true
   },
   "outputs": [],
   "source": []
  }
 ],
 "metadata": {
  "anaconda-cloud": {},
  "kernelspec": {
   "display_name": "Python 3",
   "language": "python",
   "name": "python3"
  },
  "language_info": {
   "codemirror_mode": {
    "name": "ipython",
    "version": 3
   },
   "file_extension": ".py",
   "mimetype": "text/x-python",
   "name": "python",
   "nbconvert_exporter": "python",
   "pygments_lexer": "ipython3",
   "version": "3.5.2"
  }
 },
 "nbformat": 4,
 "nbformat_minor": 1
}
