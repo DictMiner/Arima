{
 "cells": [
  {
   "cell_type": "code",
   "execution_count": 1,
   "metadata": {
    "collapsed": false
   },
   "outputs": [
    {
     "name": "stdout",
     "output_type": "stream",
     "text": [
      "Populating the interactive namespace from numpy and matplotlib\n"
     ]
    }
   ],
   "source": [
    "%pylab inline\n",
    "\n",
    "import numpy as np\n",
    "import pandas as pd\n",
    "\n",
    "import random\n",
    "import time\n",
    "\n",
    "import scipy.stats as st\n",
    "import statsmodels.api as sm\n",
    "\n",
    "import os\n",
    "import itertools as it\n",
    "\n",
    "import pyflux as pf\n",
    "\n",
    "pd.set_option('display.max_columns', 500)"
   ]
  },
  {
   "cell_type": "code",
   "execution_count": 2,
   "metadata": {
    "collapsed": false
   },
   "outputs": [
    {
     "name": "stdout",
     "output_type": "stream",
     "text": [
      "(23682736, 8)\n"
     ]
    },
    {
     "data": {
      "text/html": [
       "<div>\n",
       "<table border=\"1\" class=\"dataframe\">\n",
       "  <thead>\n",
       "    <tr style=\"text-align: right;\">\n",
       "      <th></th>\n",
       "      <th>ЦФО</th>\n",
       "      <th>Идентификатор PLU</th>\n",
       "      <th>Наименование PLU</th>\n",
       "      <th>Календарный день</th>\n",
       "      <th>Филиал</th>\n",
       "      <th>Вид Промо</th>\n",
       "      <th>Продажи, натур. ед. (SUM)</th>\n",
       "      <th>Цена товара (AVG)</th>\n",
       "    </tr>\n",
       "  </thead>\n",
       "  <tbody>\n",
       "    <tr>\n",
       "      <th>0</th>\n",
       "      <td>E1007523</td>\n",
       "      <td>3182856</td>\n",
       "      <td>ТЕНДЕР Яйца куриные С1 столовое фас.10шт</td>\n",
       "      <td>2016-09-27</td>\n",
       "      <td>UG</td>\n",
       "      <td>Z007</td>\n",
       "      <td>37.0</td>\n",
       "      <td>39.81</td>\n",
       "    </tr>\n",
       "  </tbody>\n",
       "</table>\n",
       "</div>"
      ],
      "text/plain": [
       "        ЦФО  Идентификатор PLU                          Наименование PLU  \\\n",
       "0  E1007523            3182856  ТЕНДЕР Яйца куриные С1 столовое фас.10шт   \n",
       "\n",
       "  Календарный день Филиал Вид Промо  Продажи, натур. ед. (SUM)  \\\n",
       "0       2016-09-27     UG      Z007                       37.0   \n",
       "\n",
       "   Цена товара (AVG)  \n",
       "0              39.81  "
      ]
     },
     "execution_count": 2,
     "metadata": {},
     "output_type": "execute_result"
    }
   ],
   "source": [
    "dateparse = lambda x: pd.datetime.strptime(x, '%Y/%m/%d 00:00:00') \n",
    "\n",
    "history_raw = pd.read_csv('EGG by day.csv', header=0, sep=\";\", quoting=3, decimal='.', parse_dates=['Календарный день'],\n",
    "                          date_parser=dateparse, encoding = 'cp1251')\n",
    "\n",
    "print(history_raw.shape)\n",
    "history_raw.head(1)"
   ]
  },
  {
   "cell_type": "code",
   "execution_count": 3,
   "metadata": {
    "collapsed": true
   },
   "outputs": [],
   "source": [
    "history_raw.columns = ['CFO','PLU', 'Desc', 'Day','Cluster','Promo','Qty','Price']"
   ]
  },
  {
   "cell_type": "code",
   "execution_count": 4,
   "metadata": {
    "collapsed": true
   },
   "outputs": [],
   "source": [
    "history_data = history_raw.sort_values(['CFO', 'PLU', 'Day','Qty']).reset_index(drop=True)\n",
    "history_data = history_data.drop_duplicates(subset=['CFO', 'PLU', 'Day'], keep='last').reset_index(drop=True)"
   ]
  },
  {
   "cell_type": "code",
   "execution_count": 5,
   "metadata": {
    "collapsed": true
   },
   "outputs": [],
   "source": [
    "history_data['week_start'] = history_data['Day'] - pd.to_timedelta((history_data['Day'].dt.dayofweek+6)%7, unit='d')\n",
    "history_data['Week'] = history_data['week_start'].dt.week"
   ]
  },
  {
   "cell_type": "code",
   "execution_count": 6,
   "metadata": {
    "collapsed": true
   },
   "outputs": [],
   "source": [
    "history_data['category'] = history_data['Desc'].replace({'(С2|2кат|2 кат).*':2, '(С1|1кат|1 кат).*':1, \n",
    "                                                         '(С0|СО|тбор).*':0, '(С3).*':3}, regex=True)\n",
    "history_data.loc[~history_data['category'].isin([0,1,2,3]), 'category'] = -1"
   ]
  },
  {
   "cell_type": "code",
   "execution_count": 7,
   "metadata": {
    "collapsed": true
   },
   "outputs": [],
   "source": [
    "history_data['Reg_promo'] = 0\n",
    "history_data.loc[history_data['Promo']=='Z001','Reg_promo'] = 1"
   ]
  },
  {
   "cell_type": "markdown",
   "metadata": {},
   "source": [
    "---"
   ]
  },
  {
   "cell_type": "code",
   "execution_count": 53,
   "metadata": {
    "collapsed": true
   },
   "outputs": [],
   "source": [
    "history_week = history_data.groupby(['Cluster', 'PLU', 'week_start', 'Week', 'category'], \n",
    "               as_index=False).agg({'Qty':np.sum,'Reg_promo':np.sum, 'CFO':'count'})"
   ]
  },
  {
   "cell_type": "code",
   "execution_count": 54,
   "metadata": {
    "collapsed": false,
    "scrolled": true
   },
   "outputs": [
    {
     "data": {
      "text/html": [
       "<div>\n",
       "<table border=\"1\" class=\"dataframe\">\n",
       "  <thead>\n",
       "    <tr style=\"text-align: right;\">\n",
       "      <th></th>\n",
       "      <th>Cluster</th>\n",
       "      <th>PLU</th>\n",
       "      <th>week_start</th>\n",
       "      <th>Week</th>\n",
       "      <th>category</th>\n",
       "      <th>Qty</th>\n",
       "      <th>Reg_promo</th>\n",
       "      <th>CFO</th>\n",
       "    </tr>\n",
       "  </thead>\n",
       "  <tbody>\n",
       "    <tr>\n",
       "      <th>6280</th>\n",
       "      <td>TA</td>\n",
       "      <td>3474420</td>\n",
       "      <td>2017-04-04</td>\n",
       "      <td>14</td>\n",
       "      <td>1</td>\n",
       "      <td>8431.0</td>\n",
       "      <td>0</td>\n",
       "      <td>2037</td>\n",
       "    </tr>\n",
       "    <tr>\n",
       "      <th>6281</th>\n",
       "      <td>TA</td>\n",
       "      <td>3474420</td>\n",
       "      <td>2017-04-11</td>\n",
       "      <td>15</td>\n",
       "      <td>1</td>\n",
       "      <td>28780.0</td>\n",
       "      <td>0</td>\n",
       "      <td>2725</td>\n",
       "    </tr>\n",
       "    <tr>\n",
       "      <th>6282</th>\n",
       "      <td>TA</td>\n",
       "      <td>3474420</td>\n",
       "      <td>2017-04-18</td>\n",
       "      <td>16</td>\n",
       "      <td>1</td>\n",
       "      <td>12656.0</td>\n",
       "      <td>0</td>\n",
       "      <td>1668</td>\n",
       "    </tr>\n",
       "  </tbody>\n",
       "</table>\n",
       "</div>"
      ],
      "text/plain": [
       "     Cluster      PLU week_start  Week  category      Qty  Reg_promo   CFO\n",
       "6280      TA  3474420 2017-04-04    14         1   8431.0          0  2037\n",
       "6281      TA  3474420 2017-04-11    15         1  28780.0          0  2725\n",
       "6282      TA  3474420 2017-04-18    16         1  12656.0          0  1668"
      ]
     },
     "execution_count": 54,
     "metadata": {},
     "output_type": "execute_result"
    }
   ],
   "source": [
    "history_week[(history_week['PLU']==3474420) & (history_week['Cluster']=='TA')]"
   ]
  },
  {
   "cell_type": "code",
   "execution_count": null,
   "metadata": {
    "collapsed": true
   },
   "outputs": [],
   "source": []
  },
  {
   "cell_type": "code",
   "execution_count": null,
   "metadata": {
    "collapsed": true
   },
   "outputs": [],
   "source": []
  },
  {
   "cell_type": "code",
   "execution_count": null,
   "metadata": {
    "collapsed": true
   },
   "outputs": [],
   "source": []
  },
  {
   "cell_type": "code",
   "execution_count": 9,
   "metadata": {
    "collapsed": true
   },
   "outputs": [],
   "source": [
    "base_plu = [3182856, 3182857, 3474420, 3182853, 3182864]\n",
    "history_week = history_week[history_week['PLU'].isin(base_plu)]\n",
    "history_week['Reg_promo'] = np.where(history_week['Reg_promo']>100, 1, 0)\n",
    "history_week = history_week[history_week['Qty'] > 1000]\n",
    "history_week = history_week[history_week['week_start']>pd.Timestamp('2015-02-01')]\n",
    "# history_week['Qty'] = history_week['Qty']/history_week['CFO']\n",
    "history_week = history_week[history_week['week_start']>pd.Timestamp('2015-02-01')]\n",
    "history_week = history_week[(history_week['Cluster']!='UR')|(history_week['week_start']>pd.Timestamp('2015-12-01'))]\n",
    "history_week = history_week[(history_week['Cluster']!='SB')|(history_week['week_start']>pd.Timestamp('2016-08-30'))]\n",
    "history_week = history_week[(history_week['Cluster']!='CT')|(history_week['PLU']!=3182864)]\n",
    "history_week = history_week[(history_week['Cluster']!='UR')|(history_week['PLU']!=3182864)|\n",
    "                            (history_week['week_start']>pd.Timestamp('2016-10-04'))]\n",
    "history_week = history_week[(history_week['Cluster']!='UR')|(history_week['PLU']!=3182864)|\n",
    "                            (history_week['week_start']>pd.Timestamp('2016-10-04'))]\n",
    "history_week = history_week[(history_week['Cluster']!='TA')|(history_week['PLU']!=3182853)|\n",
    "                            (history_week['week_start']>pd.Timestamp('2016-01-01'))]\n",
    "history_week = history_week[(history_week['Cluster']!='SB')|(history_week['PLU']!=3182857)|\n",
    "                            (history_week['week_start']>pd.Timestamp('2016-11-01'))]"
   ]
  },
  {
   "cell_type": "markdown",
   "metadata": {},
   "source": [
    "---"
   ]
  },
  {
   "cell_type": "code",
   "execution_count": 10,
   "metadata": {
    "collapsed": false
   },
   "outputs": [
    {
     "data": {
      "text/html": [
       "<div>\n",
       "<table border=\"1\" class=\"dataframe\">\n",
       "  <thead>\n",
       "    <tr style=\"text-align: right;\">\n",
       "      <th></th>\n",
       "      <th>Cluster</th>\n",
       "      <th>PLU</th>\n",
       "      <th>2017-05-02 00:00:00</th>\n",
       "      <th>2017-05-09 00:00:00</th>\n",
       "      <th>2017-05-16 00:00:00</th>\n",
       "      <th>2017-05-23 00:00:00</th>\n",
       "    </tr>\n",
       "  </thead>\n",
       "  <tbody>\n",
       "    <tr>\n",
       "      <th>0</th>\n",
       "      <td>CH</td>\n",
       "      <td>3182853</td>\n",
       "      <td>NaN</td>\n",
       "      <td>NaN</td>\n",
       "      <td>NaN</td>\n",
       "      <td>NaN</td>\n",
       "    </tr>\n",
       "  </tbody>\n",
       "</table>\n",
       "</div>"
      ],
      "text/plain": [
       "  Cluster      PLU 2017-05-02 00:00:00 2017-05-09 00:00:00  \\\n",
       "0      CH  3182853                 NaN                 NaN   \n",
       "\n",
       "  2017-05-16 00:00:00 2017-05-23 00:00:00  \n",
       "0                 NaN                 NaN  "
      ]
     },
     "execution_count": 10,
     "metadata": {},
     "output_type": "execute_result"
    }
   ],
   "source": [
    "promo_raw = pd.read_excel(\"EDF_05 r.xlsx\")\n",
    "promo_raw = promo_raw.rename(columns={'Филиал':'Cluster', 'Материал':'PLU'})\n",
    "promo_raw.head(1)"
   ]
  },
  {
   "cell_type": "code",
   "execution_count": 11,
   "metadata": {
    "collapsed": true
   },
   "outputs": [],
   "source": [
    "promo_week = pd.melt(promo_raw, id_vars=['Cluster', 'PLU'], \n",
    "                                    value_vars=promo_raw.columns[2:].values.tolist(), \n",
    "                                    var_name='week_start', value_name='Reg_promo')\n",
    "\n",
    "promo_week['week_start'] = pd.to_datetime(promo_week['week_start'])\n",
    "promo_week['Week'] = promo_week['week_start'].dt.week\n",
    "promo_week['Reg_promo'] = np.where(promo_week['Reg_promo'].isnull(), 0, 1)\n",
    "promo_week = promo_week[['Cluster', 'PLU', 'week_start', 'Week', 'Reg_promo']]"
   ]
  },
  {
   "cell_type": "markdown",
   "metadata": {},
   "source": [
    "---"
   ]
  },
  {
   "cell_type": "code",
   "execution_count": 1,
   "metadata": {
    "collapsed": false
   },
   "outputs": [
    {
     "ename": "NameError",
     "evalue": "name 'history_week' is not defined",
     "output_type": "error",
     "traceback": [
      "\u001b[0;31m---------------------------------------------------------------------------\u001b[0m",
      "\u001b[0;31mNameError\u001b[0m                                 Traceback (most recent call last)",
      "\u001b[0;32m<ipython-input-1-d52fdf07def5>\u001b[0m in \u001b[0;36m<module>\u001b[0;34m()\u001b[0m\n\u001b[0;32m----> 1\u001b[0;31m train = history_week[(history_week['week_start'] > history_week['week_start'].min()) & \n\u001b[0m\u001b[1;32m      2\u001b[0m                      (history_week['week_start'] < history_week['week_start'].max())].copy()\n",
      "\u001b[0;31mNameError\u001b[0m: name 'history_week' is not defined"
     ]
    }
   ],
   "source": [
    "test_weeks = [pd.Timestamp('2017-05-02'), pd.Timestamp('2017-05-09'), pd.Timestamp('2017-05-16'), pd.Timestamp('2017-05-23')]\n",
    "\n",
    "train = history_week[(history_week['week_start'] > history_week['week_start'].min()) & \n",
    "                             (history_week['week_start'] < pd.Timestamp('2017-04-18'))].copy()\n",
    "test = history_week[history_week['week_start'].isin(test_weeks)].copy()\n"
   ]
  },
  {
   "cell_type": "code",
   "execution_count": null,
   "metadata": {
    "collapsed": true
   },
   "outputs": [],
   "source": []
  },
  {
   "cell_type": "code",
   "execution_count": null,
   "metadata": {
    "collapsed": true
   },
   "outputs": [],
   "source": []
  },
  {
   "cell_type": "code",
   "execution_count": 15,
   "metadata": {
    "collapsed": false
   },
   "outputs": [],
   "source": [
    "plu_main = [3182856, 3182857, 3182853]\n",
    "train_pivot = train[train['PLU'].isin(plu_main)]\n",
    "train_pivot = train_pivot.pivot_table(\n",
    "    index=['Cluster', 'week_start'], columns=['PLU'], values=['Reg_promo']).reset_index()\n",
    "\n",
    "train_pivot.columns = [col[0]+str(col[1]) for col in train_pivot.columns.values]\n",
    "\n",
    "train = train.merge(train_pivot, on=['Cluster', 'week_start'], how='left')\n",
    "\n",
    "train['Can56'] = train.loc[(train['Reg_promo']==0)&(train['Reg_promo3182856']==1), 'Qty']\n",
    "train['Can57'] = train.loc[(train['Reg_promo']==0)&(train['Reg_promo3182857']==1), 'Qty']\n",
    "train['Can53'] = train.loc[(train['Reg_promo']==0)&(train['Reg_promo3182853']==1), 'Qty']"
   ]
  },
  {
   "cell_type": "code",
   "execution_count": 16,
   "metadata": {
    "collapsed": true
   },
   "outputs": [],
   "source": [
    "holidates = [pd.Timestamp('2015-04-07'), pd.Timestamp('2016-04-26'), pd.Timestamp('2015-12-29'), pd.Timestamp('2016-12-27'), pd.Timestamp('2017-04-11')]\n",
    "nyholy = [pd.Timestamp('2015-12-29'), pd.Timestamp('2016-12-27')]\n",
    "eaholy = [pd.Timestamp('2015-04-07'), pd.Timestamp('2016-04-26'), pd.Timestamp('2017-04-11')]\n",
    "\n",
    "train['Holy'] = train.loc[train['week_start'].isin(holidates), 'Qty']\n",
    "train['NYHoly'] = train.loc[train['week_start'].isin(nyholy), 'Qty']\n",
    "train['EAHoly'] = train.loc[train['week_start'].isin(eaholy), 'Qty']\n",
    "\n",
    "hs_sum_train = train.groupby(['Cluster', 'week_start'], as_index=False)['Reg_promo'].agg({'Reg_promo_sum':np.sum})\n",
    "train = train.merge(hs_sum_train, on=['Cluster', 'week_start'], how='left')\n",
    "train['Reg_promo_sum'] = train['Reg_promo_sum'] - train['Reg_promo']\n",
    "\n",
    "train['Promo'] = train.loc[train['Reg_promo']==1, 'Qty']\n",
    "train['Can1'] = train.loc[(train['Reg_promo']==0)&(train['Reg_promo_sum']==1), 'Qty']\n",
    "train['Can2'] = train.loc[(train['Reg_promo']==0)&(train['Reg_promo_sum']==2), 'Qty']\n",
    "\n",
    "prev_train = train[['Cluster', 'PLU', 'week_start', 'Reg_promo']].rename(columns={'Reg_promo':'prev_promo'})\n",
    "prev_train['week_start'] = prev_train['week_start'] + pd.Timedelta('7 days')\n",
    "train = train.merge(prev_train, on=['Cluster', 'PLU', 'week_start'], how='left')\n",
    "\n",
    "train['AfterPromo'] = train.loc[(train['prev_promo']==1)&(train['Reg_promo_sum']==0)&\n",
    "                                (train['Reg_promo']==0)&(~train['week_start'].isin(holidates)), 'Qty']\n",
    "\n",
    "train.loc[(train['week_start'].isin(holidates))|(train['Reg_promo']==1)|(train['Reg_promo_sum']!=0)|\n",
    "          (train['prev_promo']==1), 'Qty'] = np.NaN\n",
    "\n",
    "train['Qty med'] = train[['Cluster', 'PLU', 'week_start', 'Qty']].groupby(['Cluster', 'PLU']).apply(lambda group: \n",
    "                                group.rolling(9, min_periods=3, center=True, on='week_start').median())['Qty']\n",
    "\n",
    "train.loc[(train['Qty'] > 1.5*train['Qty med'])|(train['Qty'] < 0.7*train['Qty med']), 'Qty'] = np.NaN\n",
    "\n",
    "train['Qty int'] = train[['Cluster', 'PLU', 'week_start', 'Qty']].groupby(['Cluster', 'PLU']).apply(lambda group: \n",
    "                                group.interpolate(limit=100, limit_direction='both'))['Qty']"
   ]
  },
  {
   "cell_type": "code",
   "execution_count": 17,
   "metadata": {
    "collapsed": true
   },
   "outputs": [],
   "source": [
    "for col in ['Holy', 'NYHoly', 'EAHoly', 'Promo', 'Can1', 'Can2', 'Can56', 'Can57', 'Can53', 'AfterPromo']:\n",
    "    train[col+',%'] = train[col]/train['Qty int']\n",
    "train_cor = train.groupby(['PLU', 'Cluster'])['Holy,%', 'NYHoly,%', 'EAHoly,%', 'Promo,%', 'Can1,%', 'Can2,%', \n",
    "                                              'Can56,%', 'Can57,%', 'Can53,%', 'AfterPromo,%'].agg([np.mean,np.std])"
   ]
  },
  {
   "cell_type": "markdown",
   "metadata": {},
   "source": [
    "---"
   ]
  },
  {
   "cell_type": "code",
   "execution_count": 19,
   "metadata": {
    "collapsed": true
   },
   "outputs": [],
   "source": [
    "def invboxcox(y,lmbda):\n",
    "    if lmbda == 0:\n",
    "        return(np.exp(y))\n",
    "    else:\n",
    "        return(np.exp(np.log(lmbda*y+1)/lmbda) * 10000)"
   ]
  },
  {
   "cell_type": "code",
   "execution_count": 22,
   "metadata": {
    "collapsed": false
   },
   "outputs": [
    {
     "data": {
      "text/html": [
       "<div>\n",
       "<table border=\"1\" class=\"dataframe\">\n",
       "  <thead>\n",
       "    <tr style=\"text-align: right;\">\n",
       "      <th></th>\n",
       "      <th>Cluster</th>\n",
       "      <th>PLU</th>\n",
       "      <th>week_start</th>\n",
       "      <th>Week</th>\n",
       "      <th>category</th>\n",
       "      <th>Qty</th>\n",
       "      <th>Reg_promo</th>\n",
       "      <th>CFO</th>\n",
       "      <th>Reg_promo3182853</th>\n",
       "      <th>Reg_promo3182856</th>\n",
       "      <th>Reg_promo3182857</th>\n",
       "      <th>Can56</th>\n",
       "      <th>Can57</th>\n",
       "      <th>Can53</th>\n",
       "      <th>Holy</th>\n",
       "      <th>NYHoly</th>\n",
       "      <th>EAHoly</th>\n",
       "      <th>Reg_promo_sum</th>\n",
       "      <th>Promo</th>\n",
       "      <th>Can1</th>\n",
       "      <th>Can2</th>\n",
       "      <th>prev_promo</th>\n",
       "      <th>AfterPromo</th>\n",
       "      <th>Qty med</th>\n",
       "      <th>Qty int</th>\n",
       "      <th>Holy,%</th>\n",
       "      <th>NYHoly,%</th>\n",
       "      <th>EAHoly,%</th>\n",
       "      <th>Promo,%</th>\n",
       "      <th>Can1,%</th>\n",
       "      <th>Can2,%</th>\n",
       "      <th>Can56,%</th>\n",
       "      <th>Can57,%</th>\n",
       "      <th>Can53,%</th>\n",
       "      <th>AfterPromo,%</th>\n",
       "    </tr>\n",
       "  </thead>\n",
       "  <tbody>\n",
       "    <tr>\n",
       "      <th>0</th>\n",
       "      <td>CH</td>\n",
       "      <td>3182853</td>\n",
       "      <td>2015-02-10</td>\n",
       "      <td>7</td>\n",
       "      <td>0</td>\n",
       "      <td>13194.0</td>\n",
       "      <td>0</td>\n",
       "      <td>1771</td>\n",
       "      <td>0.0</td>\n",
       "      <td>0.0</td>\n",
       "      <td>0.0</td>\n",
       "      <td>NaN</td>\n",
       "      <td>NaN</td>\n",
       "      <td>NaN</td>\n",
       "      <td>NaN</td>\n",
       "      <td>NaN</td>\n",
       "      <td>NaN</td>\n",
       "      <td>0</td>\n",
       "      <td>NaN</td>\n",
       "      <td>NaN</td>\n",
       "      <td>NaN</td>\n",
       "      <td>NaN</td>\n",
       "      <td>NaN</td>\n",
       "      <td>9730.0</td>\n",
       "      <td>13194.0</td>\n",
       "      <td>NaN</td>\n",
       "      <td>NaN</td>\n",
       "      <td>NaN</td>\n",
       "      <td>NaN</td>\n",
       "      <td>NaN</td>\n",
       "      <td>NaN</td>\n",
       "      <td>NaN</td>\n",
       "      <td>NaN</td>\n",
       "      <td>NaN</td>\n",
       "      <td>NaN</td>\n",
       "    </tr>\n",
       "  </tbody>\n",
       "</table>\n",
       "</div>"
      ],
      "text/plain": [
       "  Cluster      PLU week_start  Week  category      Qty  Reg_promo   CFO  \\\n",
       "0      CH  3182853 2015-02-10     7         0  13194.0          0  1771   \n",
       "\n",
       "   Reg_promo3182853  Reg_promo3182856  Reg_promo3182857  Can56  Can57  Can53  \\\n",
       "0               0.0               0.0               0.0    NaN    NaN    NaN   \n",
       "\n",
       "   Holy  NYHoly  EAHoly  Reg_promo_sum  Promo  Can1  Can2  prev_promo  \\\n",
       "0   NaN     NaN     NaN              0    NaN   NaN   NaN         NaN   \n",
       "\n",
       "   AfterPromo  Qty med  Qty int  Holy,%  NYHoly,%  EAHoly,%  Promo,%  Can1,%  \\\n",
       "0         NaN   9730.0  13194.0     NaN       NaN       NaN      NaN     NaN   \n",
       "\n",
       "   Can2,%  Can56,%  Can57,%  Can53,%  AfterPromo,%  \n",
       "0     NaN      NaN      NaN      NaN           NaN  "
      ]
     },
     "execution_count": 22,
     "metadata": {},
     "output_type": "execute_result"
    }
   ],
   "source": [
    "train.head(1)"
   ]
  },
  {
   "cell_type": "code",
   "execution_count": 26,
   "metadata": {
    "collapsed": false
   },
   "outputs": [
    {
     "data": {
      "text/html": [
       "<div>\n",
       "<table border=\"1\" class=\"dataframe\">\n",
       "  <thead>\n",
       "    <tr style=\"text-align: right;\">\n",
       "      <th></th>\n",
       "      <th>Cluster</th>\n",
       "      <th>PLU</th>\n",
       "      <th>week_start</th>\n",
       "      <th>Week</th>\n",
       "      <th>category</th>\n",
       "      <th>Qty</th>\n",
       "      <th>Reg_promo</th>\n",
       "      <th>CFO</th>\n",
       "      <th>Reg_promo3182853</th>\n",
       "      <th>Reg_promo3182856</th>\n",
       "      <th>Reg_promo3182857</th>\n",
       "      <th>Can56</th>\n",
       "      <th>Can57</th>\n",
       "      <th>Can53</th>\n",
       "      <th>Holy</th>\n",
       "      <th>NYHoly</th>\n",
       "      <th>EAHoly</th>\n",
       "      <th>Reg_promo_sum</th>\n",
       "      <th>Promo</th>\n",
       "      <th>Can1</th>\n",
       "      <th>Can2</th>\n",
       "      <th>prev_promo</th>\n",
       "      <th>AfterPromo</th>\n",
       "      <th>Qty med</th>\n",
       "      <th>Qty int</th>\n",
       "      <th>Holy,%</th>\n",
       "      <th>NYHoly,%</th>\n",
       "      <th>EAHoly,%</th>\n",
       "      <th>Promo,%</th>\n",
       "      <th>Can1,%</th>\n",
       "      <th>Can2,%</th>\n",
       "      <th>Can56,%</th>\n",
       "      <th>Can57,%</th>\n",
       "      <th>Can53,%</th>\n",
       "      <th>AfterPromo,%</th>\n",
       "    </tr>\n",
       "  </thead>\n",
       "  <tbody>\n",
       "    <tr>\n",
       "      <th>2285</th>\n",
       "      <td>TA</td>\n",
       "      <td>3474420</td>\n",
       "      <td>2017-04-04</td>\n",
       "      <td>14</td>\n",
       "      <td>1</td>\n",
       "      <td>NaN</td>\n",
       "      <td>0</td>\n",
       "      <td>2037</td>\n",
       "      <td>0.0</td>\n",
       "      <td>1.0</td>\n",
       "      <td>0.0</td>\n",
       "      <td>8431.0</td>\n",
       "      <td>NaN</td>\n",
       "      <td>NaN</td>\n",
       "      <td>NaN</td>\n",
       "      <td>NaN</td>\n",
       "      <td>NaN</td>\n",
       "      <td>1</td>\n",
       "      <td>NaN</td>\n",
       "      <td>8431.0</td>\n",
       "      <td>NaN</td>\n",
       "      <td>NaN</td>\n",
       "      <td>NaN</td>\n",
       "      <td>NaN</td>\n",
       "      <td>NaN</td>\n",
       "      <td>NaN</td>\n",
       "      <td>NaN</td>\n",
       "      <td>NaN</td>\n",
       "      <td>NaN</td>\n",
       "      <td>NaN</td>\n",
       "      <td>NaN</td>\n",
       "      <td>NaN</td>\n",
       "      <td>NaN</td>\n",
       "      <td>NaN</td>\n",
       "      <td>NaN</td>\n",
       "    </tr>\n",
       "    <tr>\n",
       "      <th>2286</th>\n",
       "      <td>TA</td>\n",
       "      <td>3474420</td>\n",
       "      <td>2017-04-11</td>\n",
       "      <td>15</td>\n",
       "      <td>1</td>\n",
       "      <td>NaN</td>\n",
       "      <td>0</td>\n",
       "      <td>2725</td>\n",
       "      <td>0.0</td>\n",
       "      <td>0.0</td>\n",
       "      <td>0.0</td>\n",
       "      <td>NaN</td>\n",
       "      <td>NaN</td>\n",
       "      <td>NaN</td>\n",
       "      <td>28780.0</td>\n",
       "      <td>NaN</td>\n",
       "      <td>28780.0</td>\n",
       "      <td>0</td>\n",
       "      <td>NaN</td>\n",
       "      <td>NaN</td>\n",
       "      <td>NaN</td>\n",
       "      <td>0.0</td>\n",
       "      <td>NaN</td>\n",
       "      <td>NaN</td>\n",
       "      <td>NaN</td>\n",
       "      <td>NaN</td>\n",
       "      <td>NaN</td>\n",
       "      <td>NaN</td>\n",
       "      <td>NaN</td>\n",
       "      <td>NaN</td>\n",
       "      <td>NaN</td>\n",
       "      <td>NaN</td>\n",
       "      <td>NaN</td>\n",
       "      <td>NaN</td>\n",
       "      <td>NaN</td>\n",
       "    </tr>\n",
       "  </tbody>\n",
       "</table>\n",
       "</div>"
      ],
      "text/plain": [
       "     Cluster      PLU week_start  Week  category  Qty  Reg_promo   CFO  \\\n",
       "2285      TA  3474420 2017-04-04    14         1  NaN          0  2037   \n",
       "2286      TA  3474420 2017-04-11    15         1  NaN          0  2725   \n",
       "\n",
       "      Reg_promo3182853  Reg_promo3182856  Reg_promo3182857   Can56  Can57  \\\n",
       "2285               0.0               1.0               0.0  8431.0    NaN   \n",
       "2286               0.0               0.0               0.0     NaN    NaN   \n",
       "\n",
       "      Can53     Holy  NYHoly   EAHoly  Reg_promo_sum  Promo    Can1  Can2  \\\n",
       "2285    NaN      NaN     NaN      NaN              1    NaN  8431.0   NaN   \n",
       "2286    NaN  28780.0     NaN  28780.0              0    NaN     NaN   NaN   \n",
       "\n",
       "      prev_promo  AfterPromo  Qty med  Qty int  Holy,%  NYHoly,%  EAHoly,%  \\\n",
       "2285         NaN         NaN      NaN      NaN     NaN       NaN       NaN   \n",
       "2286         0.0         NaN      NaN      NaN     NaN       NaN       NaN   \n",
       "\n",
       "      Promo,%  Can1,%  Can2,%  Can56,%  Can57,%  Can53,%  AfterPromo,%  \n",
       "2285      NaN     NaN     NaN      NaN      NaN      NaN           NaN  \n",
       "2286      NaN     NaN     NaN      NaN      NaN      NaN           NaN  "
      ]
     },
     "execution_count": 26,
     "metadata": {},
     "output_type": "execute_result"
    }
   ],
   "source": [
    "train[(train['PLU']==3474420) & (train['Cluster']=='TA')]\n"
   ]
  },
  {
   "cell_type": "code",
   "execution_count": 32,
   "metadata": {
    "collapsed": false
   },
   "outputs": [],
   "source": [
    "predictions = pd.DataFrame()\n",
    "for (plu,cl), group in train.groupby(['PLU', 'Cluster']):\n",
    "    if (plu,cl) == (3474420, 'TA'):\n",
    "        continue\n",
    "    data = group.set_index('week_start')\n",
    "    data['Qty int'] =  data['Qty'].interpolate(limit=100, limit_direction='both')\n",
    "    data['Qty box'], lmbda = st.boxcox(data['Qty int']/10000)\n",
    "    \n",
    "    if (plu==3474420)|(cl in ('SB','UR')):\n",
    "        model = sm.tsa.statespace.SARIMAX(data['Qty box'], order=(1, 0, 0), seasonal_order=(0, 0, 0, 0), \n",
    "                                          trend='ct').fit(disp=-1)\n",
    "    else:\n",
    "        model = sm.tsa.statespace.SARIMAX(data['Qty box'], order=(2, 0, 0), seasonal_order=(0, 0, 0, 52), \n",
    "                                          trend='ct').fit(disp=-1)\n",
    "        \n",
    "    group_pred = invboxcox(model.predict(start=pd.Timestamp('2017-02-07'), \n",
    "                                         end=pd.Timestamp('2017-06-06'), freq='W-TUE'), lmbda)\n",
    "    group_pred = pd.DataFrame(group_pred).reset_index()\n",
    "    group_pred.columns=['week_start', 'Qty sarima']\n",
    "    group_pred['PLU'] = plu\n",
    "    group_pred['Cluster'] = cl\n",
    "    \n",
    "    predictions = predictions.append(group_pred)"
   ]
  },
  {
   "cell_type": "code",
   "execution_count": 30,
   "metadata": {
    "collapsed": true
   },
   "outputs": [],
   "source": [
    "result=predictions.copy()"
   ]
  },
  {
   "cell_type": "code",
   "execution_count": 42,
   "metadata": {
    "collapsed": true
   },
   "outputs": [],
   "source": [
    "test_result = promo_week.merge(predictions, on=['Cluster', 'PLU', 'week_start'], how='left')\n"
   ]
  },
  {
   "cell_type": "code",
   "execution_count": 44,
   "metadata": {
    "collapsed": true
   },
   "outputs": [],
   "source": [
    "test_result['PLU'] = test_result['PLU'].astype(int)\n",
    "test_pivot = test_result[test_result['PLU'].isin(plu_main)]\n",
    "test_pivot = test_pivot.pivot_table(\n",
    "    index=['Cluster', 'week_start'], columns=['PLU'], values=['Reg_promo']).reset_index()\n",
    "\n",
    "test_pivot.columns = [col[0]+str(col[1]) for col in test_pivot.columns.values]\n",
    "\n",
    "test_result = test_result.merge(test_pivot, on=['Cluster', 'week_start'], how='left')\n",
    "\n",
    "test_result.loc[(test_result['PLU']==3182856)&(test_result['Reg_promo']==1), 'Reg_promo3182856'] = 0\n",
    "test_result.loc[(test_result['PLU']==3182853)&(test_result['Reg_promo']==1), 'Reg_promo3182853'] = 0\n",
    "test_result.loc[(test_result['PLU']==3182857)&(test_result['Reg_promo']==1), 'Reg_promo3182857'] = 0"
   ]
  },
  {
   "cell_type": "code",
   "execution_count": 46,
   "metadata": {
    "collapsed": true
   },
   "outputs": [],
   "source": [
    "train_min = train_cor[[('Promo,%','mean'), ('Can56,%','mean'), ('Can57,%','mean'), \n",
    "                       ('Can53,%','mean'), ('EAHoly,%','mean'), ('Holy,%','mean')]].reset_index()\n",
    "train_min.columns = train_min.columns.droplevel(1)\n",
    "\n",
    "train_min['coe'] = train_min['EAHoly,%']/train_min['Holy,%']\n",
    "train_min['coe'] = train_min.groupby(['PLU'])['coe'].transform(lambda x: x.fillna(x.mean()))\n",
    "train_min['EAHoly,%'] = train_min['EAHoly,%'].fillna(train_min['Holy,%']*train_min['coe'])\n",
    "train_min['EAHoly,%'] = train_min['EAHoly,%'].fillna(train_min['Holy,%'])\n",
    "train_min = train_min.drop(['Holy,%','coe'], axis=1)"
   ]
  },
  {
   "cell_type": "code",
   "execution_count": 47,
   "metadata": {
    "collapsed": true
   },
   "outputs": [],
   "source": [
    "test_result = test_result.merge(train_min, on=['PLU', 'Cluster'],how='left')\n",
    "test_result[['Can56,%', 'Can57,%', 'Can53,%']] = test_result[['Can56,%', 'Can57,%', \n",
    "                                                              'Can53,%']].clip_upper(1).fillna(1)"
   ]
  },
  {
   "cell_type": "code",
   "execution_count": 49,
   "metadata": {
    "collapsed": false
   },
   "outputs": [],
   "source": [
    "test_result['Qty pred'] = test_result['Qty sarima']\n",
    "test_result.loc[test_result['Reg_promo']==1,['Qty pred']] = test_result.loc[test_result['Reg_promo']==1,\n",
    "                                    ['Qty pred', 'Promo,%']].product(axis=1)\n",
    "test_result.loc[test_result['Reg_promo3182853']==1,['Qty pred']] = test_result.loc[test_result['Reg_promo3182853']==1,\n",
    "                                    ['Qty pred', 'Can53,%']].product(axis=1)\n",
    "test_result.loc[test_result['Reg_promo3182856']==1,['Qty pred']] = test_result.loc[test_result['Reg_promo3182856']==1,\n",
    "                                    ['Qty pred', 'Can56,%']].product(axis=1)\n",
    "test_result.loc[test_result['Reg_promo3182857']==1,['Qty pred']] = test_result.loc[test_result['Reg_promo3182857']==1,\n",
    "                                    ['Qty pred', 'Can57,%']].product(axis=1)\n",
    "test_result.loc[test_result['week_start'].isin(eaholy),['Qty pred']] = test_result.loc[test_result['week_start'].isin(eaholy),\n",
    "                                    ['Qty pred', 'EAHoly,%']].product(axis=1)\n"
   ]
  },
  {
   "cell_type": "code",
   "execution_count": 52,
   "metadata": {
    "collapsed": true
   },
   "outputs": [],
   "source": [
    "writer = pd.ExcelWriter('EDF_06.xlsx')\n",
    "test_result[['Cluster', 'PLU', 'week_start', 'Reg_promo', 'Qty pred']].to_excel(writer, 'Main', index=True)\n",
    "writer.save()"
   ]
  },
  {
   "cell_type": "code",
   "execution_count": null,
   "metadata": {
    "collapsed": true
   },
   "outputs": [],
   "source": []
  },
  {
   "cell_type": "code",
   "execution_count": null,
   "metadata": {
    "collapsed": true
   },
   "outputs": [],
   "source": []
  },
  {
   "cell_type": "code",
   "execution_count": 34,
   "metadata": {
    "collapsed": true
   },
   "outputs": [],
   "source": [
    "def wape_base(preds, y_true):\n",
    "    return np.sum(np.abs(y_true-preds))/np.sum(y_true)"
   ]
  },
  {
   "cell_type": "code",
   "execution_count": 35,
   "metadata": {
    "collapsed": false
   },
   "outputs": [
    {
     "name": "stdout",
     "output_type": "stream",
     "text": [
      "2017-03-14 00:00:00 0.1969078884150992\n",
      "2017-03-21 00:00:00 0.23787998724688855\n",
      "2017-03-28 00:00:00 0.39496883048748155\n",
      "2017-04-04 00:00:00 0.2612225304239846\n",
      "2017-04-11 00:00:00 0.19737258110253433\n",
      "2017-04-18 00:00:00 0.3683921659075151\n"
     ]
    }
   ],
   "source": [
    "for week in test_weeks:\n",
    "    test_t = test_result[test_result['week_start']==week]\n",
    "    print(week, wape_base(test_t['Result'],test_t['Result r']))"
   ]
  },
  {
   "cell_type": "code",
   "execution_count": 50,
   "metadata": {
    "collapsed": false
   },
   "outputs": [
    {
     "data": {
      "text/html": [
       "<div>\n",
       "<table border=\"1\" class=\"dataframe\">\n",
       "  <thead>\n",
       "    <tr style=\"text-align: right;\">\n",
       "      <th></th>\n",
       "      <th>Cluster</th>\n",
       "      <th>PLU</th>\n",
       "      <th>week_start</th>\n",
       "      <th>Week</th>\n",
       "      <th>Reg_promo</th>\n",
       "      <th>Qty sarima</th>\n",
       "      <th>Reg_promo3182853</th>\n",
       "      <th>Reg_promo3182856</th>\n",
       "      <th>Reg_promo3182857</th>\n",
       "      <th>Promo,%</th>\n",
       "      <th>Can56,%</th>\n",
       "      <th>Can57,%</th>\n",
       "      <th>Can53,%</th>\n",
       "      <th>EAHoly,%</th>\n",
       "      <th>Qty pred</th>\n",
       "      <th>Result</th>\n",
       "    </tr>\n",
       "  </thead>\n",
       "  <tbody>\n",
       "    <tr>\n",
       "      <th>0</th>\n",
       "      <td>CH</td>\n",
       "      <td>3182853</td>\n",
       "      <td>2017-05-02</td>\n",
       "      <td>18</td>\n",
       "      <td>0</td>\n",
       "      <td>55702.714668</td>\n",
       "      <td>0</td>\n",
       "      <td>0</td>\n",
       "      <td>0</td>\n",
       "      <td>NaN</td>\n",
       "      <td>0.960572</td>\n",
       "      <td>1.0</td>\n",
       "      <td>1.0</td>\n",
       "      <td>1.864513</td>\n",
       "      <td>55702.714668</td>\n",
       "      <td>55702.714668</td>\n",
       "    </tr>\n",
       "  </tbody>\n",
       "</table>\n",
       "</div>"
      ],
      "text/plain": [
       "  Cluster      PLU week_start  Week  Reg_promo    Qty sarima  \\\n",
       "0      CH  3182853 2017-05-02    18          0  55702.714668   \n",
       "\n",
       "   Reg_promo3182853  Reg_promo3182856  Reg_promo3182857  Promo,%   Can56,%  \\\n",
       "0                 0                 0                 0      NaN  0.960572   \n",
       "\n",
       "   Can57,%  Can53,%  EAHoly,%      Qty pred        Result  \n",
       "0      1.0      1.0  1.864513  55702.714668  55702.714668  "
      ]
     },
     "execution_count": 50,
     "metadata": {},
     "output_type": "execute_result"
    }
   ],
   "source": [
    "test_result.head(1)"
   ]
  },
  {
   "cell_type": "code",
   "execution_count": 24,
   "metadata": {
    "collapsed": false
   },
   "outputs": [
    {
     "ename": "NameError",
     "evalue": "name 'test_result' is not defined",
     "output_type": "error",
     "traceback": [
      "\u001b[0;31m---------------------------------------------------------------------------\u001b[0m",
      "\u001b[0;31mNameError\u001b[0m                                 Traceback (most recent call last)",
      "\u001b[0;32m<ipython-input-24-364525cf8910>\u001b[0m in \u001b[0;36m<module>\u001b[0;34m()\u001b[0m\n\u001b[1;32m      7\u001b[0m \u001b[0;34m\u001b[0m\u001b[0m\n\u001b[1;32m      8\u001b[0m \u001b[0mhsx\u001b[0m \u001b[0;34m=\u001b[0m \u001b[0mtrain\u001b[0m\u001b[0;34m[\u001b[0m\u001b[0;34m(\u001b[0m\u001b[0mtrain\u001b[0m\u001b[0;34m[\u001b[0m\u001b[0;34m'PLU'\u001b[0m\u001b[0;34m]\u001b[0m\u001b[0;34m==\u001b[0m\u001b[0mplu\u001b[0m\u001b[0;34m)\u001b[0m \u001b[0;34m&\u001b[0m \u001b[0;34m(\u001b[0m\u001b[0mtrain\u001b[0m\u001b[0;34m[\u001b[0m\u001b[0;34m'Cluster'\u001b[0m\u001b[0;34m]\u001b[0m\u001b[0;34m==\u001b[0m\u001b[0mcl\u001b[0m\u001b[0;34m)\u001b[0m\u001b[0;34m]\u001b[0m\u001b[0;34m\u001b[0m\u001b[0m\n\u001b[0;32m----> 9\u001b[0;31m \u001b[0mhsx_test\u001b[0m \u001b[0;34m=\u001b[0m \u001b[0mtest_result\u001b[0m\u001b[0;34m[\u001b[0m\u001b[0;34m(\u001b[0m\u001b[0mtest_result\u001b[0m\u001b[0;34m[\u001b[0m\u001b[0;34m'PLU'\u001b[0m\u001b[0;34m]\u001b[0m\u001b[0;34m==\u001b[0m\u001b[0mplu\u001b[0m\u001b[0;34m)\u001b[0m \u001b[0;34m&\u001b[0m \u001b[0;34m(\u001b[0m\u001b[0mtest_result\u001b[0m\u001b[0;34m[\u001b[0m\u001b[0;34m'Cluster'\u001b[0m\u001b[0;34m]\u001b[0m\u001b[0;34m==\u001b[0m\u001b[0mcl\u001b[0m\u001b[0;34m)\u001b[0m\u001b[0;34m]\u001b[0m\u001b[0;34m\u001b[0m\u001b[0m\n\u001b[0m\u001b[1;32m     10\u001b[0m \u001b[0;34m\u001b[0m\u001b[0m\n\u001b[1;32m     11\u001b[0m \u001b[0;34m\u001b[0m\u001b[0m\n",
      "\u001b[0;31mNameError\u001b[0m: name 'test_result' is not defined"
     ]
    }
   ],
   "source": [
    "# ['CH', 'CT', 'NG', 'SA', 'SB', 'SZ', 'TA', 'UG', 'UR']\n",
    "# [3182856, 3182857, 3474420, 3182853, 3182864]\n",
    "\n",
    "plu = 3474420\n",
    "cl = 'TA'\n",
    "p = 50\n",
    "\n",
    "hsx = train[(train['PLU']==plu) & (train['Cluster']==cl)]\n",
    "hsx_test = test_result[(test_result['PLU']==plu) & (test_result['Cluster']==cl)]\n",
    "\n",
    "\n",
    "plt.plot_date(hsx['week_start'][-p:], hsx['Qty'][-p:], c='c')\n",
    "plt.plot_date(hsx['week_start'][-p:], hsx['Qty int'][-p:], c='g', ls='-', marker='')\n",
    "plt.plot_date(hsx_test['week_start'], hsx_test['Qty pred'], c='magenta', ls='-', marker='')\n",
    "plt.plot_date(hsx_test['week_start'], hsx_test['Qty'], c='r')\n",
    "\n",
    "plt.xticks(rotation='vertical')\n",
    "_ = 0"
   ]
  },
  {
   "cell_type": "code",
   "execution_count": null,
   "metadata": {
    "collapsed": true
   },
   "outputs": [],
   "source": []
  },
  {
   "cell_type": "code",
   "execution_count": null,
   "metadata": {
    "collapsed": true
   },
   "outputs": [],
   "source": []
  },
  {
   "cell_type": "code",
   "execution_count": null,
   "metadata": {
    "collapsed": true
   },
   "outputs": [],
   "source": []
  },
  {
   "cell_type": "code",
   "execution_count": null,
   "metadata": {
    "collapsed": true
   },
   "outputs": [],
   "source": []
  },
  {
   "cell_type": "code",
   "execution_count": null,
   "metadata": {
    "collapsed": true
   },
   "outputs": [],
   "source": []
  },
  {
   "cell_type": "code",
   "execution_count": null,
   "metadata": {
    "collapsed": true
   },
   "outputs": [],
   "source": []
  },
  {
   "cell_type": "code",
   "execution_count": null,
   "metadata": {
    "collapsed": true
   },
   "outputs": [],
   "source": []
  }
 ],
 "metadata": {
  "anaconda-cloud": {},
  "kernelspec": {
   "display_name": "Python 3",
   "language": "python",
   "name": "python3"
  },
  "language_info": {
   "codemirror_mode": {
    "name": "ipython",
    "version": 3
   },
   "file_extension": ".py",
   "mimetype": "text/x-python",
   "name": "python",
   "nbconvert_exporter": "python",
   "pygments_lexer": "ipython3",
   "version": "3.5.2"
  }
 },
 "nbformat": 4,
 "nbformat_minor": 1
}
